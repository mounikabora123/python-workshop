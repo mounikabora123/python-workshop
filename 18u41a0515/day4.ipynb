{
 "cells": [
  {
   "cell_type": "markdown",
   "metadata": {},
   "source": [
    "# day objectives"
   ]
  },
  {
   "cell_type": "markdown",
   "metadata": {},
   "source": [
    "## packages"
   ]
  },
  {
   "cell_type": "markdown",
   "metadata": {},
   "source": [
    "### file headling"
   ]
  },
  {
   "cell_type": "markdown",
   "metadata": {},
   "source": [
    "* read mode \n",
    "* write mode\n",
    "* append mode"
   ]
  },
  {
   "cell_type": "markdown",
   "metadata": {},
   "source": [
    "* package is a collection of modules"
   ]
  },
  {
   "cell_type": "code",
   "execution_count": 1,
   "metadata": {},
   "outputs": [
    {
     "data": {
      "text/plain": [
       "5"
      ]
     },
     "execution_count": 1,
     "metadata": {},
     "output_type": "execute_result"
    }
   ],
   "source": [
    "from packages import module\n",
    "module.add(2,3)"
   ]
  },
  {
   "cell_type": "code",
   "execution_count": 2,
   "metadata": {},
   "outputs": [
    {
     "name": "stdout",
     "output_type": "stream",
     "text": [
      "it is a leap year\n"
     ]
    }
   ],
   "source": [
    "from packages import module\n",
    "module.isleapyear(2020)"
   ]
  },
  {
   "cell_type": "code",
   "execution_count": 3,
   "metadata": {},
   "outputs": [
    {
     "data": {
      "text/plain": [
       "1"
      ]
     },
     "execution_count": 3,
     "metadata": {},
     "output_type": "execute_result"
    }
   ],
   "source": [
    "from packages import module\n",
    "module.sub(4,3)"
   ]
  },
  {
   "cell_type": "code",
   "execution_count": 4,
   "metadata": {},
   "outputs": [
    {
     "name": "stdout",
     "output_type": "stream",
     "text": [
      "prime\n"
     ]
    }
   ],
   "source": [
    "from packages import module\n",
    "module.isprime(2)"
   ]
  },
  {
   "cell_type": "code",
   "execution_count": 5,
   "metadata": {},
   "outputs": [
    {
     "name": "stdout",
     "output_type": "stream",
     "text": [
      "2\n",
      "4\n",
      "6\n",
      "8\n",
      "10\n",
      "12\n",
      "14\n",
      "16\n",
      "18\n",
      "20\n"
     ]
    }
   ],
   "source": [
    "from packages import module\n",
    "module.alleven(1,20)"
   ]
  },
  {
   "cell_type": "code",
   "execution_count": 6,
   "metadata": {},
   "outputs": [
    {
     "name": "stdout",
     "output_type": "stream",
     "text": [
      "1\n",
      "3\n",
      "5\n",
      "7\n",
      "9\n",
      "11\n",
      "13\n",
      "15\n",
      "17\n",
      "19\n"
     ]
    }
   ],
   "source": [
    "from packages import module\n",
    "module.allodd(1,20)"
   ]
  },
  {
   "cell_type": "code",
   "execution_count": 7,
   "metadata": {},
   "outputs": [
    {
     "name": "stdout",
     "output_type": "stream",
     "text": [
      "1\n",
      "2\n",
      "3\n",
      "6\n"
     ]
    }
   ],
   "source": [
    "from packages import module\n",
    "module.fact(6)"
   ]
  },
  {
   "cell_type": "code",
   "execution_count": 1,
   "metadata": {},
   "outputs": [
    {
     "data": {
      "text/plain": [
       "720"
      ]
     },
     "execution_count": 1,
     "metadata": {},
     "output_type": "execute_result"
    }
   ],
   "source": [
    "from packages import module\n",
    "module.factorial(6)"
   ]
  },
  {
   "cell_type": "markdown",
   "metadata": {},
   "source": [
    "# files"
   ]
  },
  {
   "cell_type": "markdown",
   "metadata": {},
   "source": [
    "* open(data.txt,mode)\n",
    "* write(data.txt,m)\n",
    "* read(data.txt,r)\n",
    "* append(data.txt,a)\n",
    "* f.close()"
   ]
  },
  {
   "cell_type": "markdown",
   "metadata": {},
   "source": [
    "### write mode"
   ]
  },
  {
   "cell_type": "code",
   "execution_count": 65,
   "metadata": {},
   "outputs": [],
   "source": [
    "def writedata():\n",
    "    with open(\"files/data1.txt\",'w') as f:\n",
    "        f.write(\"mouni\")\n",
    "    f.close()\n",
    "writedata()    "
   ]
  },
  {
   "cell_type": "markdown",
   "metadata": {},
   "source": [
    "### read mode"
   ]
  },
  {
   "cell_type": "code",
   "execution_count": 66,
   "metadata": {},
   "outputs": [
    {
     "name": "stdout",
     "output_type": "stream",
     "text": [
      "mouni\n"
     ]
    }
   ],
   "source": [
    "def readdata():\n",
    "    with open(\"files/data1.txt\",'r') as f:\n",
    "        print(f.read())\n",
    "readdata()    "
   ]
  },
  {
   "cell_type": "markdown",
   "metadata": {},
   "source": [
    "### append mode"
   ]
  },
  {
   "cell_type": "code",
   "execution_count": 67,
   "metadata": {},
   "outputs": [],
   "source": [
    "def appenddata():\n",
    "    with open(\"files/data1.txt\",'a') as f: \n",
    "         f.write(\"\\n chinni\")\n",
    "    f.close()\n",
    "appenddata()    "
   ]
  },
  {
   "cell_type": "code",
   "execution_count": 14,
   "metadata": {},
   "outputs": [
    {
     "name": "stdout",
     "output_type": "stream",
     "text": [
      "\n",
      " chinni\n"
     ]
    }
   ],
   "source": [
    "def appenddata():\n",
    "    with open(\"files/data1.txt\",'a') as f: \n",
    "         f.write(\"\\n chinni\")\n",
    "    f.close()\n",
    "readdata()    "
   ]
  },
  {
   "cell_type": "code",
   "execution_count": 71,
   "metadata": {},
   "outputs": [
    {
     "name": "stdout",
     "output_type": "stream",
     "text": [
      "mouni\n",
      "\n",
      " chinni\n"
     ]
    }
   ],
   "source": [
    "def readdata():\n",
    "    with open(\"files/data1.txt\",'r') as f: \n",
    "         for line in f.readlines():\n",
    "            print(line)\n",
    "readdata()    "
   ]
  },
  {
   "cell_type": "code",
   "execution_count": 72,
   "metadata": {},
   "outputs": [
    {
     "name": "stdout",
     "output_type": "stream",
     "text": [
      "m\n",
      "o\n",
      "u\n",
      "n\n",
      "i\n",
      "\n",
      "\n"
     ]
    }
   ],
   "source": [
    "def readdata():\n",
    "    with open(\"files/data1.txt\",'r') as f: \n",
    "         for line in f.readline():\n",
    "            print(line)\n",
    "readdata()    "
   ]
  },
  {
   "cell_type": "code",
   "execution_count": 17,
   "metadata": {},
   "outputs": [],
   "source": [
    "from random import randint\n",
    "def marklist(n,lb,ub):\n",
    "    with open(\"files/marks.txt\",'a') as f:\n",
    "        for student in range(60):\n",
    "            mark=randint(lb,ub)\n",
    "            f.write(str(mark))\n",
    "            f.write(\"\\n\")\n",
    "    f.close()\n",
    "marklist(60,0,100)    "
   ]
  },
  {
   "cell_type": "code",
   "execution_count": 20,
   "metadata": {},
   "outputs": [
    {
     "name": "stdout",
     "output_type": "stream",
     "text": [
      "average of total student 57.28333333333333\n"
     ]
    }
   ],
   "source": [
    "def avgstydentmarks():\n",
    "    with open(\"files/marks.txt\",'r') as f:\n",
    "        sum=0\n",
    "        c=0\n",
    "        for line in f:\n",
    "            sum+=int(line)\n",
    "            c+=1\n",
    "    print(\"average of total student\",sum/c)\n",
    "avgstydentmarks()    "
   ]
  },
  {
   "cell_type": "code",
   "execution_count": 23,
   "metadata": {},
   "outputs": [
    {
     "name": "stdout",
     "output_type": "stream",
     "text": [
      "19\n"
     ]
    }
   ],
   "source": [
    "def studenwith opent():\n",
    "     with open(\"files/marks.txt\",'r') as f:\n",
    "            c=0\n",
    "            for line in f:\n",
    "                if int(line)>75:\n",
    "                     c+=1\n",
    "    print(c)\n",
    "student()                  "
   ]
  },
  {
   "cell_type": "code",
   "execution_count": 25,
   "metadata": {},
   "outputs": [
    {
     "name": "stdout",
     "output_type": "stream",
     "text": [
      "pass percentage 75.0\n"
     ]
    }
   ],
   "source": [
    "def passpercent():\n",
    "    with open(\"files/marks.txt\",'r') as f:\n",
    "        total=0\n",
    "        c=0\n",
    "        for student in f:\n",
    "            total+=1\n",
    "            if int(student)>=35:\n",
    "                c=c+1\n",
    "        print(\"pass percentage\",(c/total)*100)\n",
    "passpercent()"
   ]
  },
  {
   "cell_type": "markdown",
   "metadata": {},
   "source": [
    "# file data processing"
   ]
  },
  {
   "cell_type": "markdown",
   "metadata": {},
   "source": [
    "* manipulation of data\n",
    "* line count\n",
    "* word count\n",
    "* char count\n",
    "* alpha count\n",
    "* numberic count\n",
    "* special char count"
   ]
  },
  {
   "cell_type": "code",
   "execution_count": 27,
   "metadata": {},
   "outputs": [
    {
     "data": {
      "text/plain": [
       "60"
      ]
     },
     "execution_count": 27,
     "metadata": {},
     "output_type": "execute_result"
    }
   ],
   "source": [
    "def linecount():\n",
    "    with open(\"files/marks.txt\",'r') as f:\n",
    "        c=0\n",
    "        for line in f:\n",
    "            c+=1\n",
    "    return c\n",
    "linecount()"
   ]
  },
  {
   "cell_type": "code",
   "execution_count": 31,
   "metadata": {},
   "outputs": [
    {
     "data": {
      "text/plain": [
       "5"
      ]
     },
     "execution_count": 31,
     "metadata": {},
     "output_type": "execute_result"
    }
   ],
   "source": [
    "def charcount():\n",
    "    with open(\"files/data1.txt\",'r') as f:\n",
    "        c=0\n",
    "        for line in f:\n",
    "            for char in line:\n",
    "                c+=1\n",
    "    return c\n",
    "charcount()"
   ]
  },
  {
   "cell_type": "code",
   "execution_count": 43,
   "metadata": {},
   "outputs": [
    {
     "name": "stdout",
     "output_type": "stream",
     "text": [
      "char count 5\n",
      "alph count 5\n"
     ]
    },
    {
     "data": {
      "text/plain": [
       "5"
      ]
     },
     "execution_count": 43,
     "metadata": {},
     "output_type": "execute_result"
    }
   ],
   "source": [
    "def alphacount():\n",
    "    with open(\"files/data1.txt\",'r') as f:\n",
    "        c=0\n",
    "        ch=0\n",
    "        for char in f.read():\n",
    "            ch+=1\n",
    "            if char.isalpha():\n",
    "                c+=1\n",
    "        print(\"char count\",ch)\n",
    "        print(\"alph count\",c)\n",
    "    return c\n",
    "alphacount()"
   ]
  },
  {
   "cell_type": "code",
   "execution_count": 46,
   "metadata": {},
   "outputs": [
    {
     "name": "stdout",
     "output_type": "stream",
     "text": [
      "char count 32\n",
      "digit count 10\n"
     ]
    },
    {
     "data": {
      "text/plain": [
       "10"
      ]
     },
     "execution_count": 46,
     "metadata": {},
     "output_type": "execute_result"
    }
   ],
   "source": [
    "def digitcount():\n",
    "    with open(\"files/data1.txt\",'r') as f:\n",
    "        c=0\n",
    "        ch=0\n",
    "        for char in f.read():\n",
    "            ch+=1\n",
    "            if char.isdigit():\n",
    "                c+=1\n",
    "        print(\"char count\",ch)\n",
    "        print(\"digit count\",c)\n",
    "    return c\n",
    "digitcount()"
   ]
  },
  {
   "cell_type": "code",
   "execution_count": 59,
   "metadata": {},
   "outputs": [
    {
     "name": "stdout",
     "output_type": "stream",
     "text": [
      "5\n"
     ]
    }
   ],
   "source": [
    "def wordcount():\n",
    "    with open(\"files/data1.txt\",'r') as f:\n",
    "        c=1\n",
    "        for line in f.read():\n",
    "             if(line==' ' or line=='\\n'):\n",
    "                c+=1            \n",
    "        print(c)\n",
    "wordcount()"
   ]
  },
  {
   "cell_type": "code",
   "execution_count": 64,
   "metadata": {},
   "outputs": [
    {
     "name": "stdout",
     "output_type": "stream",
     "text": [
      "5\n"
     ]
    }
   ],
   "source": [
    "def wordcount():\n",
    "    with open(\"files/data1.txt\",'r') as f:\n",
    "        c=0\n",
    "        for line in f.readlines():\n",
    "                    c+=len(line.split())            \n",
    "    print(c)\n",
    "wordcount()"
   ]
  },
  {
   "cell_type": "code",
   "execution_count": null,
   "metadata": {},
   "outputs": [],
   "source": []
  }
 ],
 "metadata": {
  "kernelspec": {
   "display_name": "Python 3",
   "language": "python",
   "name": "python3"
  },
  "language_info": {
   "codemirror_mode": {
    "name": "ipython",
    "version": 3
   },
   "file_extension": ".py",
   "mimetype": "text/x-python",
   "name": "python",
   "nbconvert_exporter": "python",
   "pygments_lexer": "ipython3",
   "version": "3.7.3"
  }
 },
 "nbformat": 4,
 "nbformat_minor": 2
}
